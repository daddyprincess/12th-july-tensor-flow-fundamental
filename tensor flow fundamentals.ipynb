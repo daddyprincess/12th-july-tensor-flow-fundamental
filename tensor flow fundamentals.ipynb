{
 "cells": [
  {
   "cell_type": "markdown",
   "id": "f333f0ae-35a5-495a-92f1-e1695155f50f",
   "metadata": {},
   "source": [
    "## Part 1: Theoretical Queltionk"
   ]
  },
  {
   "cell_type": "markdown",
   "id": "04088b34-92d1-4914-8d26-6e8f24cc6390",
   "metadata": {},
   "source": [
    "### What are the different data structures used in Tensorflow?. Give some examples?"
   ]
  },
  {
   "cell_type": "code",
   "execution_count": null,
   "id": "f0eff33e-f1ec-4ef3-9793-7c12952bc59b",
   "metadata": {},
   "outputs": [],
   "source": [
    "TensorFlow uses several data structures to represent and manipulate data, especially when working with neural networks\n",
    "and machine learning tasks. Some of the key data structures in TensorFlow include:\n",
    "\n",
    "1.Tensors: Tensors are the fundamental data structure in TensorFlow. They are multi-dimensional arrays that can represent\n",
    "scalars, vectors, matrices, and higher-dimensional data. Tensors are used to store and process data in neural networks.\n",
    "    Examples:\n",
    "\n",
    "    ~Scalar (0-D tensor): tf.constant(42)\n",
    "    ~Vector (1-D tensor): tf.constant([1, 2, 3])\n",
    "    ~Matrix (2-D tensor): tf.constant([[1, 2], [3, 4]])\n",
    "    \n",
    "2.Variables: TensorFlow variables are used to store mutable state, such as model parameters. They are often used for\n",
    "weights and biases in neural networks. Example:\n",
    "    \n",
    "    tf.Variable(initial_value=tf.zeros(shape=(3, 3)), trainable=True)\n",
    "\n",
    "3.Datasets: Datasets in TensorFlow are used for efficient data input pipelines. They allow you to load, transform, and\n",
    "batch data for training and evaluation. Example:\n",
    "    \n",
    "    dataset = tf.data.Dataset.from_tensor_slices((features, labels)).batch(batch_size)\n",
    "\n",
    "4.Sparse Tensors: Sparse tensors are used to efficiently represent and manipulate data with a significant number of zero\n",
    "values. Example:\n",
    "    \n",
    "    indices = tf.constant([[0, 1], [1, 2]])\n",
    "    values = tf.constant([4.0, 5.0])\n",
    "    shape = tf.constant([3, 3])\n",
    "    st = tf.SparseTensor(indices, values, shape)\n",
    "\n",
    "5.Ragged Tensors: Ragged tensors are used to handle sequences of varying lengths. They are often used in natural \n",
    "language processing tasks. Example:\n",
    "    \n",
    "    rt = tf.RaggedTensor.from_value_rowids(values=[3, 1, 4, 1, 5, 9], value_rowids=[0, 0, 0, 2, 2, 3])\n",
    "\n",
    "6.Sparse Tensors: Sparse tensors are used to efficiently represent and manipulate data with a significant number of\n",
    "zero values. Example:\n",
    "    \n",
    "    st = tf.SparseTensor(indices=[[0, 1], [1, 2]], values=[4.0, 5.0], dense_shape=[3, 3])\n",
    "    \n",
    "7.Eager Tensors: Eager tensors are used when working in TensorFlow's eager execution mode, which is more intuitive for \n",
    "debugging. Example:\n",
    "    \n",
    "    x = tf.constant([1, 2, 3])\n",
    "    y = tf.constant([4, 5, 6])\n",
    "    result = x + y\n",
    "    \n",
    "These are some of the fundamental data structures used in TensorFlow. Depending on the task, you may also encounter\n",
    "other specialized data structures and abstractions, but these cover the most common ones."
   ]
  },
  {
   "cell_type": "markdown",
   "id": "00c63d73-f037-45a4-af6e-61c8f0173304",
   "metadata": {},
   "source": [
    "### 2.How does the TensorFlow constant differ from a TensorFlow variable? Explain with an example."
   ]
  },
  {
   "cell_type": "code",
   "execution_count": null,
   "id": "a21771c7-3762-468b-89da-32a172df56fd",
   "metadata": {},
   "outputs": [],
   "source": [
    "TensorFlow provides two main data structures for handling data: constants and variables. These two data structures \n",
    "differ primarily in their mutability and use cases:\n",
    "\n",
    "1.TensorFlow Constant:\n",
    "    ~Constants are immutable, meaning their values cannot be changed once they are defined.\n",
    "    ~They are typically used for storing fixed values or hyperparameters that do not change during the execution of a \n",
    "     computation graph.\n",
    "    ~Constants are created using the tf.constant function.\n",
    "    \n",
    "Example of a TensorFlow constant:\n",
    "    \n",
    "import tensorflow as tf\n",
    "\n",
    "# Define a TensorFlow constant\n",
    "const_tensor = tf.constant(42)\n",
    "\n",
    "# Attempting to change the value will result in an error\n",
    "# const_tensor.assign(43)  # This would raise an error\n",
    "\n",
    "\n",
    "1.TensorFlow Variable:\n",
    "    ~Variables are mutable, which means their values can be changed during the execution of a computation graph.\n",
    "    ~They are often used to store model parameters like weights and biases, which are updated during training.\n",
    "    ~Variables are created using the tf.Variable class.\n",
    "    \n",
    "Example of a TensorFlow variable:\n",
    "    \n",
    "import tensorflow as tf\n",
    "\n",
    "# Define a TensorFlow variable\n",
    "var = tf.Variable(2.0)\n",
    "\n",
    "# You can change the value of the variable\n",
    "var.assign(3.0)\n",
    "\n",
    "# Print the updated value\n",
    "print(var.numpy())  # This will print 3.0\n",
    "\n",
    "\n",
    "In summary, constants are used for storing values that should not change, while variables are used for values that need \n",
    "to be updated or trained during the execution of a computation graph, typically in the context of machine learning\n",
    "models. This distinction is crucial in TensorFlow because it helps manage and update model parameters during training \n",
    "while keeping fixed values constant throughout the computation."
   ]
  },
  {
   "cell_type": "markdown",
   "id": "c5b18af7-3b7d-4949-92ab-0a3004d8bb37",
   "metadata": {},
   "source": [
    "### 3.Describe the process of matrix addition, multiplication, and elementDwise operations in TensorFlow."
   ]
  },
  {
   "cell_type": "code",
   "execution_count": null,
   "id": "b360f86b-4b2d-4e1c-9207-b04b9a439b07",
   "metadata": {},
   "outputs": [],
   "source": [
    "In TensorFlow, you can perform matrix addition, multiplication, and element-wise operations using tensors, which are\n",
    "multi-dimensional arrays. Here's an overview of these operations:\n",
    "\n",
    "1.Matrix Addition:\n",
    "    ~Matrix addition in TensorFlow is straightforward and follows the same rules as regular matrix addition in linear \n",
    "     algebra. Given two tensors of the same shape, you can use the tf.add operation to add them element-wise.\n",
    "        \n",
    "import tensorflow as tf\n",
    "\n",
    "# Define two tensors\n",
    "tensor_a = tf.constant([[1, 2], [3, 4]])\n",
    "tensor_b = tf.constant([[5, 6], [7, 8]])\n",
    "\n",
    "# Perform matrix addition\n",
    "result = tf.add(tensor_a, tensor_b)\n",
    "\n",
    "# The result will be:\n",
    "# [[6, 8],\n",
    "#  [10, 12]]\n",
    "\n",
    "2.Matrix Multiplication:\n",
    "\n",
    "    ~Matrix multiplication can be performed using the tf.matmul operation. This operation follows the standard matrix\n",
    "     multiplication rules, where the inner dimensions must match.\n",
    "        \n",
    "import tensorflow as tf\n",
    "\n",
    "# Define two tensors\n",
    "tensor_a = tf.constant([[1, 2], [3, 4]])\n",
    "tensor_b = tf.constant([[5, 6], [7, 8]])\n",
    "\n",
    "# Perform matrix multiplication\n",
    "result = tf.matmul(tensor_a, tensor_b)\n",
    "\n",
    "# The result will be:\n",
    "# [[19, 22],\n",
    "#  [43, 50]]\n",
    "\n",
    "Alternatively, you can use the @ operator for matrix multiplication:\n",
    "    \n",
    "        result = tensor_a @ tensor_b\n",
    "\n",
    "3.Element-wise Operations:\n",
    "\n",
    "    ~Element-wise operations are operations where each element of a tensor is combined with the corresponding element of \n",
    "     another tensor. You can perform various mathematical operations, such as addition, subtraction, multiplication, \n",
    "    and division, element-wise. TensorFlow provides element-wise operations that work on tensors of the same shape.\n",
    "    \n",
    "import tensorflow as tf\n",
    "\n",
    "# Define two tensors\n",
    "tensor_a = tf.constant([1, 2, 3])\n",
    "tensor_b = tf.constant([4, 5, 6])\n",
    "\n",
    "# Perform element-wise addition\n",
    "result_add = tf.add(tensor_a, tensor_b)  # [5, 7, 9]\n",
    "\n",
    "# Perform element-wise multiplication\n",
    "result_mul = tf.multiply(tensor_a, tensor_b)  # [4, 10, 18]\n",
    "\n",
    "These operations are fundamental in TensorFlow and are extensively used when building and training neural networks.\n",
    "They allow you to perform various mathematical operations on tensors, making TensorFlow a powerful framework for \n",
    "numerical computing and machine learning."
   ]
  },
  {
   "cell_type": "markdown",
   "id": "8aace35d-47ef-4389-865c-45c231ddb7c8",
   "metadata": {},
   "source": [
    "## Part 2: Practical Implementation"
   ]
  },
  {
   "cell_type": "markdown",
   "id": "85e2dd37-1d23-43ab-bf97-1c729b83d573",
   "metadata": {},
   "source": [
    "## Task 1: Creating and Manipulating Matrices"
   ]
  },
  {
   "cell_type": "markdown",
   "id": "4082daff-0e39-48e9-9425-416d616dfb22",
   "metadata": {},
   "source": [
    "### 1. Create a normal matrix A with dimensions 2x2, using TensorFlow's random_normal function. Display the values of matrix A."
   ]
  },
  {
   "cell_type": "code",
   "execution_count": null,
   "id": "492ca552-839e-465c-ac90-8a625f804380",
   "metadata": {},
   "outputs": [],
   "source": [
    "import tensorflow as tf\n",
    "\n",
    "# Create a 2x2 matrix with random values from a normal distribution\n",
    "A = tf.random.normal(shape=(2, 2), mean=0.0, stddev=1.0, dtype=tf.float32)\n",
    "\n",
    "# Display the values of matrix A\n",
    "print(\"Matrix A:\")\n",
    "print(A.numpy())"
   ]
  },
  {
   "cell_type": "markdown",
   "id": "08208c92-67fe-491e-915e-32bbc75c0372",
   "metadata": {},
   "source": [
    "### 2.Create a Gaussian matrix B with dimensions x, using TensorFlow's truncated_normal function. Display the values of matrix B"
   ]
  },
  {
   "cell_type": "code",
   "execution_count": null,
   "id": "3ddde399-4071-4547-bd72-ef3c1ff41fca",
   "metadata": {},
   "outputs": [],
   "source": [
    "import tensorflow as tf\n",
    "\n",
    "# Define the dimensions of the matrix (replace 'x' with the desired value)\n",
    "x = 2\n",
    "\n",
    "# Create a Gaussian matrix with random values using truncated_normal\n",
    "B = tf.truncated_normal(shape=(x, x), mean=0.0, stddev=1.0, dtype=tf.float32)\n",
    "\n",
    "# Display the values of matrix B\n",
    "print(\"Matrix B:\")\n",
    "print(B.numpy())"
   ]
  },
  {
   "cell_type": "markdown",
   "id": "1434d1cc-b68f-45f8-adb5-cf87f5880574",
   "metadata": {},
   "source": [
    "### 3.Create a matrix C with dimensions 2x2, where the values are drawn from a normal distribution with a mean of 2 and a standard deviation of 0.x, using TensorFlow's random.normal function. Display the values of matrix C"
   ]
  },
  {
   "cell_type": "code",
   "execution_count": null,
   "id": "19be5222-3a20-4e12-b9b5-3c57fa69e733",
   "metadata": {},
   "outputs": [],
   "source": [
    "import tensorflow as tf\n",
    "\n",
    "# Define the mean and standard deviation\n",
    "mean = 2.0\n",
    "stddev = 0.5  # Replace 'x' with your desired standard deviation\n",
    "\n",
    "# Create a 2x2 matrix with random values from a normal distribution\n",
    "C = tf.random.normal(shape=(2, 2), mean=mean, stddev=stddev, dtype=tf.float32)\n",
    "\n",
    "# Display the values of matrix C\n",
    "print(\"Matrix C:\")\n",
    "print(C.numpy())"
   ]
  },
  {
   "cell_type": "markdown",
   "id": "412a6c12-d3b5-4222-993c-444317028e3d",
   "metadata": {},
   "source": [
    "### 4.Perform matrix addition between matrix A and matrix B, and store the result in matrix D"
   ]
  },
  {
   "cell_type": "code",
   "execution_count": null,
   "id": "d5b5f2b5-2367-40b6-9641-8aa4eeac7cf5",
   "metadata": {},
   "outputs": [],
   "source": [
    "import tensorflow as tf\n",
    "\n",
    "# Assuming you have matrices A and B (previously defined)\n",
    "\n",
    "# Perform matrix addition between A and B\n",
    "D = tf.add(A, B)\n",
    "\n",
    "# Display the values of matrix D\n",
    "print(\"Matrix D (Result of Addition):\")\n",
    "print(D.numpy())"
   ]
  },
  {
   "cell_type": "markdown",
   "id": "b65cfba3-0f12-47e9-9d13-05f07395033c",
   "metadata": {},
   "source": [
    "### 5. Perform matrix multiplication between matrix C and matrix D, and store the result in matrix E."
   ]
  },
  {
   "cell_type": "code",
   "execution_count": null,
   "id": "fcdbb1ce-ec1a-44d0-bc8e-f9fdc5b911cb",
   "metadata": {},
   "outputs": [],
   "source": [
    "import tensorflow as tf\n",
    "\n",
    "# Assuming you have matrices C and D (previously defined)\n",
    "\n",
    "# Perform matrix multiplication between C and D\n",
    "E = tf.matmul(C, D)\n",
    "\n",
    "# Display the values of matrix E\n",
    "print(\"Matrix E (Result of Multiplication):\")\n",
    "print(E.numpy())"
   ]
  },
  {
   "cell_type": "markdown",
   "id": "0fa6b758-2f04-45e8-8eb0-cfc91fd74e0f",
   "metadata": {},
   "source": [
    "## Task 2: Performing Additional Matrix Operation"
   ]
  },
  {
   "cell_type": "markdown",
   "id": "24529226-9edb-4cb4-b775-e30c6cca97b8",
   "metadata": {},
   "source": [
    "### 1.Create a matrix F with dimensions 2x2, initialized with random values using TensorFlow's random_uniform function."
   ]
  },
  {
   "cell_type": "code",
   "execution_count": null,
   "id": "eae49cd8-5598-4290-b120-ad359de9a6f6",
   "metadata": {},
   "outputs": [],
   "source": [
    "import tensorflow as tf\n",
    "\n",
    "# Define the shape of the matrix\n",
    "shape = (2, 2)\n",
    "\n",
    "# Create a 2x2 matrix with random values using tf.random.uniform\n",
    "F = tf.random.uniform(shape=shape, minval=0, maxval=1, dtype=tf.float32)\n",
    "\n",
    "# Display the values of matrix F\n",
    "print(\"Matrix F:\")\n",
    "print(F.numpy())"
   ]
  },
  {
   "cell_type": "markdown",
   "id": "f84403db-c042-4330-8b50-5a5a7239be98",
   "metadata": {},
   "source": [
    "### 2.Calculate the transpose of matrix F and store the result in matrix G."
   ]
  },
  {
   "cell_type": "code",
   "execution_count": null,
   "id": "47c10e4d-429c-4adc-b102-e3c92a02388f",
   "metadata": {},
   "outputs": [],
   "source": [
    "import tensorflow as tf\n",
    "\n",
    "# Assuming you have matrix F (previously defined)\n",
    "\n",
    "# Calculate the transpose of matrix F\n",
    "G = tf.transpose(F)\n",
    "\n",
    "# Display the values of matrix G\n",
    "print(\"Matrix G (Transpose of F):\")\n",
    "print(G.numpy())"
   ]
  },
  {
   "cell_type": "markdown",
   "id": "96cc928c-e509-4899-a597-5eee0e13e5f2",
   "metadata": {},
   "source": [
    "### 3.Calculate the elementDwise exponential of matrix F and store the result in matrix H."
   ]
  },
  {
   "cell_type": "code",
   "execution_count": null,
   "id": "57da7af3-c978-485d-84fb-dc9bbb701d1d",
   "metadata": {},
   "outputs": [],
   "source": [
    "import tensorflow as tf\n",
    "\n",
    "# Assuming you have matrix F (previously defined)\n",
    "\n",
    "# Calculate the element-wise exponential of matrix F\n",
    "H = tf.exp(F)\n",
    "\n",
    "# Display the values of matrix H\n",
    "print(\"Matrix H (Element-wise Exponential of F):\")\n",
    "print(H.numpy())"
   ]
  },
  {
   "cell_type": "markdown",
   "id": "951c5ac2-be0c-433f-9866-176396b8d585",
   "metadata": {},
   "source": [
    "### 4.Create a matrix I by concatenating matrix F and matrix G horizontally."
   ]
  },
  {
   "cell_type": "code",
   "execution_count": null,
   "id": "97936b43-aa56-40c7-8216-880dc7107448",
   "metadata": {},
   "outputs": [],
   "source": [
    "import tensorflow as tf\n",
    "\n",
    "# Assuming you have matrices F and G (previously defined)\n",
    "\n",
    "# Concatenate matrices F and G horizontally\n",
    "I = tf.concat([F, G], axis=1)\n",
    "\n",
    "# Display the values of matrix I\n",
    "print(\"Matrix I (Concatenation of F and G horizontally):\")\n",
    "print(I.numpy())"
   ]
  },
  {
   "cell_type": "markdown",
   "id": "deeee0de-5da8-4ec8-8b36-d1cc66d0c39d",
   "metadata": {},
   "source": [
    "### 5.Create a matrix J by concatenating matrix F and matrix H vertically."
   ]
  },
  {
   "cell_type": "code",
   "execution_count": null,
   "id": "d4dbe07f-2253-4db6-b898-efdb20d12311",
   "metadata": {},
   "outputs": [],
   "source": [
    "import tensorflow as tf\n",
    "\n",
    "# Assuming you have matrices F and H (previously defined)\n",
    "\n",
    "# Concatenate matrices F and H vertically\n",
    "J = tf.concat([F, H], axis=0)\n",
    "\n",
    "# Display the values of matrix J\n",
    "print(\"Matrix J (Concatenation of F and H vertically):\")\n",
    "print(J.numpy())"
   ]
  }
 ],
 "metadata": {
  "kernelspec": {
   "display_name": "Python 3 (ipykernel)",
   "language": "python",
   "name": "python3"
  },
  "language_info": {
   "codemirror_mode": {
    "name": "ipython",
    "version": 3
   },
   "file_extension": ".py",
   "mimetype": "text/x-python",
   "name": "python",
   "nbconvert_exporter": "python",
   "pygments_lexer": "ipython3",
   "version": "3.10.8"
  }
 },
 "nbformat": 4,
 "nbformat_minor": 5
}
